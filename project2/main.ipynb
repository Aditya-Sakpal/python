{
 "cells": [
  {
   "cell_type": "code",
   "execution_count": 7,
   "metadata": {},
   "outputs": [
    {
     "ename": "IndentationError",
     "evalue": "expected an indented block after 'if' statement on line 45 (554850238.py, line 52)",
     "output_type": "error",
     "traceback": [
      "\u001b[1;36m  Input \u001b[1;32mIn [7]\u001b[1;36m\u001b[0m\n\u001b[1;33m    \u001b[0m\n\u001b[1;37m    ^\u001b[0m\n\u001b[1;31mIndentationError\u001b[0m\u001b[1;31m:\u001b[0m expected an indented block after 'if' statement on line 45\n"
     ]
    }
   ],
   "source": [
    "import nltk\n",
    "from nltk.stem.lancaster import LancasterStemmer\n",
    "stemmer=LancasterStemmer()\n",
    "\n",
    "import numpy as np\n",
    "import tflearn\n",
    "import tensorflow as tf\n",
    "import random\n",
    "import json\n",
    "\n",
    "with open(\"intents.json\") as file:\n",
    "    data=json.load(file)\n",
    "# print(data[\"intents\"]) \n",
    "\n",
    "words=[]\n",
    "labels=[]\n",
    "docs_x=[]\n",
    "docs_y=[]\n",
    "\n",
    "for intent in data[\"intents\"]:\n",
    "    for pattern in data[\"patterns\"]:\n",
    "        wrds=nltk.word_tokenize(pattern)\n",
    "        words.extends(wrds)\n",
    "        docs_x.append(wrds)\n",
    "        docs_y.append(intent[\"tag\"])\n",
    "         \n",
    "\n",
    "        if intent[\"tag\"] not in labels:\n",
    "            labels.append(intent[\"tag\"])\n",
    "\n",
    "words=[stemmer.stem(w.lower()) for w in words if w!=\"?\"]\n",
    "words=sorted(list(set(words)))#set is used to remove duplicate words and list toh malum hai\n",
    "\n",
    "labels=sorted(labels)\n",
    "\n",
    "training=[]\n",
    "output=[]\n",
    "\n",
    "out_empty=[0 for _ in range(len(labels))]\n",
    "bag=[]\n",
    "for x,doc in enumerate(docs_x):\n",
    "    wrds=[stemmer.stem(w) for w in doc]\n",
    "\n",
    "    for w in words:\n",
    "        if w in wrds:\n",
    "            bag.append(1)\n",
    "        else:\n",
    "            bag.append(0)    \n",
    "    \n",
    "    output_row=out_empty[:]\n",
    "    output_row[labels.index(docs_y[x])]=1\n",
    "\n",
    "    training.append(bag)\n",
    "    output.append(output_row)\n",
    "training=np.array(training)\n",
    "output=np.array(output)\n",
    "\n",
    "\n",
    "    \n",
    "\n",
    "\n",
    "\n",
    "\n"
   ]
  }
 ],
 "metadata": {
  "kernelspec": {
   "display_name": "Python 3.10.1 64-bit",
   "language": "python",
   "name": "python3"
  },
  "language_info": {
   "codemirror_mode": {
    "name": "ipython",
    "version": 3
   },
   "file_extension": ".py",
   "mimetype": "text/x-python",
   "name": "python",
   "nbconvert_exporter": "python",
   "pygments_lexer": "ipython3",
   "version": "3.10.1 (tags/v3.10.1:2cd268a, Dec  6 2021, 19:10:37) [MSC v.1929 64 bit (AMD64)]"
  },
  "orig_nbformat": 4,
  "vscode": {
   "interpreter": {
    "hash": "3075602fe07dfbfad68e36544cfcd65990cacb611b1ced0126e3839888a1e43b"
   }
  }
 },
 "nbformat": 4,
 "nbformat_minor": 2
}
