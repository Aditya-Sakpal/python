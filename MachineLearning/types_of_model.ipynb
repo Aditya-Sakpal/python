{
 "cells": [
  {
   "cell_type": "code",
   "execution_count": 98,
   "metadata": {},
   "outputs": [
    {
     "name": "stdout",
     "output_type": "stream",
     "text": [
      "House price is  1251036.4220538882\n",
      "Accuracy of the model is  0.6002333283587495\n"
     ]
    },
    {
     "name": "stderr",
     "output_type": "stream",
     "text": [
      "c:\\Users\\adity\\AppData\\Local\\Programs\\Python\\Python310\\lib\\site-packages\\sklearn\\base.py:450: UserWarning: X does not have valid feature names, but LinearRegression was fitted with feature names\n",
      "  warnings.warn(\n"
     ]
    }
   ],
   "source": [
    "#LINEAR REGREESSION MODEL \n",
    "#THIS MODEL PREDICTS THE HOUSE PRICE ON THE BASIS OF AVERAGE AREA INCOME AND POPULATION\n",
    "\n",
    "import numpy as np\n",
    "import pandas as pd\n",
    "import matplotlib.pyplot as plt\n",
    "import sklearn\n",
    "from sklearn import linear_model\n",
    "from sklearn.model_selection import train_test_split\n",
    "\n",
    "df=pd.read_csv('house.csv')\n",
    "\n",
    "# X=df.drop([\"Price\",\"Address\",],axis=1)\n",
    "X=df[[\"Avg. Area Income\",\"Area Population\"]]\n",
    "\n",
    "y=df[\"Price\"]\n",
    "\n",
    "x_train,x_test,y_train,y_test=train_test_split(X,y,test_size=0.1)\n",
    "\n",
    "model=linear_model.LinearRegression()\n",
    "a=model.fit(x_test,y_test)\n",
    "\n",
    "n=float(input(\"Enter Area Income\"))\n",
    "m=float(input(\"Enter Area Population\"))\n",
    "\n",
    "predict=model.predict([[n,m]])\n",
    "score=model.score(x_test,y_test)\n",
    "print(\"House price is \",predict[0])\n",
    "print(\"Accuracy of the model is \",score)\n",
    "\n"
   ]
  },
  {
   "cell_type": "code",
   "execution_count": 56,
   "metadata": {},
   "outputs": [
    {
     "name": "stdout",
     "output_type": "stream",
     "text": [
      "No breast Cancer\n"
     ]
    },
    {
     "name": "stderr",
     "output_type": "stream",
     "text": [
      "c:\\Users\\adity\\AppData\\Local\\Programs\\Python\\Python310\\lib\\site-packages\\sklearn\\base.py:450: UserWarning: X does not have valid feature names, but DecisionTreeClassifier was fitted with feature names\n",
      "  warnings.warn(\n"
     ]
    }
   ],
   "source": [
    "#DecisionTreeClassifier\n",
    "#THIS MODEL PREDICTS WHEATER THE WOMAN HAS BREAST CANCER OR NOT ON THE BASIS OF MEAN RADIUS,TEXTURE AND PERIMETER\n",
    "\n",
    "import pandas as pd\n",
    "import numpy as np\n",
    "from sklearn.datasets import load_breast_cancer\n",
    "from sklearn.model_selection import train_test_split\n",
    "from sklearn.tree import DecisionTreeClassifier\n",
    "\n",
    "data=load_breast_cancer()\n",
    "df=pd.DataFrame(data=data['data'],columns=data['feature_names'])\n",
    "\n",
    "X=df[['mean radius','mean texture','mean perimeter']]\n",
    "y=data['target']\n",
    "\n",
    "x_train,x_test,y_train,y_test=train_test_split(X,y,test_size=0.1)\n",
    "model=DecisionTreeClassifier()\n",
    "model.fit(x_train,y_train)\n",
    "n=float(input(\"Enter mean radius\"))\n",
    "m=float(input(\"Enter mean texture\"))\n",
    "o=float(input(\"Enter mean perimeter\"))\n",
    "\n",
    "predictions=model.predict([[n,m,o]])\n",
    "if(predictions[0]==0):\n",
    "    print(\"Breast Cancer\")\n",
    "else:\n",
    "    print(\"No Breast Cancer\")    \n"
   ]
  },
  {
   "cell_type": "code",
   "execution_count": 79,
   "metadata": {},
   "outputs": [
    {
     "name": "stdout",
     "output_type": "stream",
     "text": [
      "Accuracy of prediction :- 0.289485179869855\n"
     ]
    }
   ],
   "source": [
    "#DecisionTreeRegrssion\n",
    "#THIS MODEL PREDICTS FLAT PRICE ON THE BASIS OF BATH ROOM SIZE,BALCONY SIZE,BHK AND TOTAL SQ.FT\n",
    "#ALTHOUGH THIS MODEL IS NOT THAT ACCURATE\n",
    "import pandas as pd\n",
    "import numpy as np\n",
    "from sklearn.tree import DecisionTreeRegressor\n",
    "from sklearn.model_selection import train_test_split\n",
    "from sklearn.metrics import accuracy_score\n",
    "\n",
    "path=r\"https://drive.google.com/uc?export=download&id=1xxDtrZKfuWQfl-6KA9XEd_eatitNPnkB\"\n",
    "df=pd.read_csv(path)\n",
    "\n",
    "X=df[['bath','balcony','bhk','total_sqft_int']]\n",
    "y=df['price']\n",
    "\n",
    "x_train,x_test,y_train,y_test=train_test_split(X,y,test_size=0.1)\n",
    "\n",
    "model=DecisionTreeRegressor()\n",
    "model.fit(x_train,y_train)\n",
    "a=float(input(\"Enter bath room size\"))\n",
    "b=float(input(\"Enter balcony size\"))\n",
    "c=float(input(\"Enter BHK\"))\n",
    "d=float(input(\"Enter total sq.ft\"))\n",
    "\n",
    "\n",
    "predictions=model.predict([[a,b,c,d]])\n",
    "print(\"Estimated price is \",predictions[0],\"Lakhs\")\n",
    "print(\"Accuracy of prediction :-\",model.score(x_test,y_test))"
   ]
  },
  {
   "cell_type": "code",
   "execution_count": 95,
   "metadata": {},
   "outputs": [
    {
     "name": "stdout",
     "output_type": "stream",
     "text": [
      "Patient has Breast Cancer\n",
      "Accuracy of the model is  0.8596491228070176\n"
     ]
    },
    {
     "name": "stderr",
     "output_type": "stream",
     "text": [
      "c:\\Users\\adity\\AppData\\Local\\Programs\\Python\\Python310\\lib\\site-packages\\sklearn\\base.py:450: UserWarning: X does not have valid feature names, but RandomForestClassifier was fitted with feature names\n",
      "  warnings.warn(\n"
     ]
    }
   ],
   "source": [
    "#RandomForestClassifier\n",
    "#THIS MODEL PREDICTS WHEATER THE PAITEINT HAS BREAST CANCER OR NOT ON THE BASIS OF MEAN RADIUS,TEXTURE AND PERIMETER\n",
    "\n",
    "import pandas as pd\n",
    "from sklearn.datasets import load_breast_cancer\n",
    "from sklearn.model_selection import train_test_split\n",
    "from sklearn.ensemble import RandomForestClassifier\n",
    "\n",
    "data=load_breast_cancer()\n",
    "df=pd.DataFrame(data=data['data'],columns=data['feature_names'])\n",
    "X=df[['mean radius','mean texture','mean perimeter']]\n",
    "y=data['target']\n",
    "\n",
    "x_train,x_test,y_train,y_test=train_test_split(X,y,test_size=0.1)\n",
    "\n",
    "model=RandomForestClassifier()\n",
    "model.fit(x_train,y_train)\n",
    "a=float(input(\"Enter mean radius\"))\n",
    "b=float(input(\"Enter mean texture\"))\n",
    "c=float(input(\"Enter mean perimeter\"))\n",
    "\n",
    "predictions=model.predict([[a,b,c]])\n",
    "if(predictions[0]==0):\n",
    "    print(\"Patient has Breast Cancer\")\n",
    "else:\n",
    "    print(\"Patient is normal\")\n",
    "print(\"Accuracy of the model is \",model.score(x_test,y_test))    "
   ]
  },
  {
   "cell_type": "code",
   "execution_count": 101,
   "metadata": {},
   "outputs": [
    {
     "name": "stdout",
     "output_type": "stream",
     "text": [
      "Predict price of the house is  132.7960061904762\n",
      "Accuracy of the model  0.5380177561095294\n"
     ]
    },
    {
     "name": "stderr",
     "output_type": "stream",
     "text": [
      "c:\\Users\\adity\\AppData\\Local\\Programs\\Python\\Python310\\lib\\site-packages\\sklearn\\base.py:450: UserWarning: X does not have valid feature names, but RandomForestRegressor was fitted with feature names\n",
      "  warnings.warn(\n"
     ]
    }
   ],
   "source": [
    "#RandomForestRegression\n",
    "#THIS MODEL PREDICTS THE HOUSE PRICE ON THE BASIS OF BATHROOM SIZE,BALCONY SIZE,TOTAL SQFT,BHK\n",
    "\n",
    "import pandas as pd\n",
    "from sklearn.model_selection import train_test_split\n",
    "from sklearn.ensemble import RandomForestRegressor\n",
    "\n",
    "path=r\"https://drive.google.com/uc?export=download&id=1xxDtrZKfuWQfl-6KA9XEd_eatitNPnkB\"\n",
    "df=pd.read_csv(path)\n",
    "\n",
    "X=df[['bath','balcony','total_sqft_int','bhk']]\n",
    "y=df['price']\n",
    "\n",
    "x_train,x_test,y_train,y_test=train_test_split(X,y,test_size=0.1)\n",
    "\n",
    "model=RandomForestRegressor()\n",
    "model.fit(x_train,y_train)\n",
    "a=float(input(\"Enter bathroom size\"))\n",
    "b=float(input(\"Enter balcony size\"))\n",
    "c=float(input(\"Enter totalsqft size\"))\n",
    "d=float(input(\"Enter BHK\"))\n",
    "\n",
    "predictions=model.predict([[a,b,c,d]])\n",
    "print(\"Predict price of the house is \",predictions[0])\n",
    "print(\"Accuracy of the model \",model.score(x_test,y_test))\n"
   ]
  },
  {
   "cell_type": "code",
   "execution_count": 11,
   "metadata": {},
   "outputs": [
    {
     "name": "stderr",
     "output_type": "stream",
     "text": [
      "c:\\Users\\adity\\AppData\\Local\\Programs\\Python\\Python310\\lib\\site-packages\\sklearn\\linear_model\\_logistic.py:444: ConvergenceWarning: lbfgs failed to converge (status=1):\n",
      "STOP: TOTAL NO. of ITERATIONS REACHED LIMIT.\n",
      "\n",
      "Increase the number of iterations (max_iter) or scale the data as shown in:\n",
      "    https://scikit-learn.org/stable/modules/preprocessing.html\n",
      "Please also refer to the documentation for alternative solver options:\n",
      "    https://scikit-learn.org/stable/modules/linear_model.html#logistic-regression\n",
      "  n_iter_i = _check_optimize_result(\n"
     ]
    },
    {
     "ename": "ValueError",
     "evalue": "could not convert string to float: ''",
     "output_type": "error",
     "traceback": [
      "\u001b[1;31m---------------------------------------------------------------------------\u001b[0m",
      "\u001b[1;31mValueError\u001b[0m                                Traceback (most recent call last)",
      "\u001b[1;32md:\\python\\machine learning\\types_of_model.ipynb Cell 7\u001b[0m in \u001b[0;36m<cell line: 16>\u001b[1;34m()\u001b[0m\n\u001b[0;32m     <a href='vscode-notebook-cell:/d%3A/python/machine%20learning/types_of_model.ipynb#X11sZmlsZQ%3D%3D?line=13'>14</a>\u001b[0m model\u001b[39m=\u001b[39mlinear_model\u001b[39m.\u001b[39mLogisticRegression()\n\u001b[0;32m     <a href='vscode-notebook-cell:/d%3A/python/machine%20learning/types_of_model.ipynb#X11sZmlsZQ%3D%3D?line=14'>15</a>\u001b[0m model\u001b[39m.\u001b[39mfit(x_train,y_train)\n\u001b[1;32m---> <a href='vscode-notebook-cell:/d%3A/python/machine%20learning/types_of_model.ipynb#X11sZmlsZQ%3D%3D?line=15'>16</a>\u001b[0m a\u001b[39m=\u001b[39m\u001b[39mfloat\u001b[39;49m(\u001b[39minput\u001b[39;49m(\u001b[39m\"\u001b[39;49m\u001b[39mEnter sepal length\u001b[39;49m\u001b[39m\"\u001b[39;49m))\n\u001b[0;32m     <a href='vscode-notebook-cell:/d%3A/python/machine%20learning/types_of_model.ipynb#X11sZmlsZQ%3D%3D?line=16'>17</a>\u001b[0m b\u001b[39m=\u001b[39m\u001b[39mfloat\u001b[39m(\u001b[39minput\u001b[39m(\u001b[39m\"\u001b[39m\u001b[39mEnter sepal width\u001b[39m\u001b[39m\"\u001b[39m))\n\u001b[0;32m     <a href='vscode-notebook-cell:/d%3A/python/machine%20learning/types_of_model.ipynb#X11sZmlsZQ%3D%3D?line=17'>18</a>\u001b[0m c\u001b[39m=\u001b[39m\u001b[39mfloat\u001b[39m(\u001b[39minput\u001b[39m(\u001b[39m\"\u001b[39m\u001b[39mEnter petal length\u001b[39m\u001b[39m\"\u001b[39m))\n",
      "\u001b[1;31mValueError\u001b[0m: could not convert string to float: ''"
     ]
    }
   ],
   "source": [
    "#LogisticRegression \n",
    "#THIS MODEL PREDICTS THE SPECIES ON THE BASIS OF SEPAL LENGTH ,WIDTH AND PETAL LENGTH ,WIDTH\n",
    "import pandas as pd\n",
    "import seaborn as sns\n",
    "from sklearn import datasets\n",
    "from sklearn import linear_model\n",
    "from sklearn.model_selection import train_test_split\n",
    "\n",
    "df=sns.load_dataset('iris')\n",
    "\n",
    "X=df[['sepal_length','sepal_width','petal_length','petal_width']]\n",
    "y=df['species']\n",
    "\n",
    "x_train,x_test,y_train,y_test=train_test_split(X,y,test_size=0.1)\n",
    "\n",
    "model=linear_model.LogisticRegression()\n",
    "model.fit(x_train,y_train)\n",
    "a=float(input(\"Enter sepal length\"))\n",
    "b=float(input(\"Enter sepal width\"))\n",
    "c=float(input(\"Enter petal length\"))\n",
    "d=float(input(\"Enter petal width\"))\n",
    "\n",
    "predictions=model.predict([[a,b,c,d]])\n",
    "print(\"Species is \",predictions[0])\n",
    "print(\"Accuracy of the model is \",model.score(x_test,y_test))"
   ]
  },
  {
   "cell_type": "code",
   "execution_count": 25,
   "metadata": {},
   "outputs": [
    {
     "name": "stdout",
     "output_type": "stream",
     "text": [
      "Patient has breast cancer\n",
      "Accuracy of the model  0.9473684210526315\n"
     ]
    },
    {
     "name": "stderr",
     "output_type": "stream",
     "text": [
      "c:\\Users\\adity\\AppData\\Local\\Programs\\Python\\Python310\\lib\\site-packages\\sklearn\\base.py:450: UserWarning: X does not have valid feature names, but SVC was fitted with feature names\n",
      "  warnings.warn(\n"
     ]
    }
   ],
   "source": [
    "#SupportVectorMachine\n",
    "#THIS MODEL PREDICTS WHEATER THE PATIENT HAS BREAST CANCER OR NOT ON THE BASIS OF MEAN RADIUS,AREA,TEXTURE AND PERIMETER\n",
    "\n",
    "from sklearn.datasets import load_breast_cancer\n",
    "from sklearn.model_selection import train_test_split\n",
    "from sklearn import svm\n",
    "import pandas as pd\n",
    "\n",
    "data=load_breast_cancer()\n",
    "df=pd.DataFrame(data=data['data'],columns=data['feature_names'])\n",
    "\n",
    "X=df[['mean radius','mean texture','mean perimeter','mean area']]\n",
    "y=data['target']\n",
    "\n",
    "x_train,x_test,y_train,y_test=train_test_split(X,y,test_size=0.1)\n",
    "\n",
    "model=svm.SVC(kernel='linear',random_state=0)\n",
    "model.fit(x_train,y_train)\n",
    "\n",
    "a=float(input(\"Enter mean radius\"))\n",
    "b=float(input(\"Enter mean texture\"))\n",
    "c=float(input(\"Enter mean perimeter\"))\n",
    "d=float(input(\"Enter mean area\"))\n",
    "\n",
    "predictions=model.predict([[a,b,c,d]])\n",
    "\n",
    "if(predictions[0]==0):\n",
    "    print(\"Patient has breast cancer\")\n",
    "else:\n",
    "    print(\"Patient is normal\")\n",
    "\n",
    "print(\"Accuracy of the model \",model.score(x_test,y_test))\n"
   ]
  },
  {
   "cell_type": "code",
   "execution_count": 24,
   "metadata": {},
   "outputs": [
    {
     "data": {
      "text/plain": [
       "(16,\n",
       " [[52, 'Iris-versicolor', 2],\n",
       "  [77, 'Iris-versicolor', 2],\n",
       "  [101, 'Iris-virginica', 1],\n",
       "  [106, 'Iris-virginica', 1],\n",
       "  [113, 'Iris-virginica', 1],\n",
       "  [114, 'Iris-virginica', 1],\n",
       "  [119, 'Iris-virginica', 1],\n",
       "  [121, 'Iris-virginica', 1],\n",
       "  [123, 'Iris-virginica', 1],\n",
       "  [126, 'Iris-virginica', 1],\n",
       "  [127, 'Iris-virginica', 1],\n",
       "  [133, 'Iris-virginica', 1],\n",
       "  [138, 'Iris-virginica', 1],\n",
       "  [142, 'Iris-virginica', 1],\n",
       "  [146, 'Iris-virginica', 1],\n",
       "  [149, 'Iris-virginica', 1]])"
      ]
     },
     "execution_count": 24,
     "metadata": {},
     "output_type": "execute_result"
    },
    {
     "data": {
      "image/png": "[encoded data removed]",
      "text/plain": [
       "<Figure size 640x480 with 1 Axes>"
      ]
     },
     "metadata": {},
     "output_type": "display_data"
    }
   ],
   "source": [
    "#KMeansClustering\n",
    "#THIS ALGORITHM GROUPS THE ROWS ON THE BASIS OF N1,N2 AND N3\n",
    "import pandas as pd\n",
    "import matplotlib.pyplot as plt\n",
    "from sklearn.cluster import KMeans\n",
    "\n",
    "df=pd.read_csv('data.txt')\n",
    "x=df.drop('TYPE',axis=1)\n",
    "\n",
    "#FINDING THE MOST OPTIMAL NUMBER OF CLUSTER\n",
    "lst=[]\n",
    "for i in range(1,20):\n",
    "    kmean=KMeans(n_clusters=i,init='k-means++',random_state=30)\n",
    "    kmean.fit(x)\n",
    "    lst.append(kmean.inertia_)\n",
    "plt.plot(range(1,20),lst)#FIND THE ELBOW IN THE GRAPH\n",
    "#SO BY OBSERVING THE GRAPH WE CAN CONCLUDE THAT THE OPTIMAL NUMBER OF CLUSTER WILL BE 3\n",
    "kmean=KMeans(n_clusters=3,init='k-means++',random_state=30)\n",
    "kmean.fit(x)\n",
    "df['cluster']=kmean.fit_predict(x)\n",
    "\n",
    "mismatched=[]\n",
    "wrong=0\n",
    "for i in range(0,len(df['TYPE'])):\n",
    "    if((df['TYPE'][i]=='Iris-setosa' and df['cluster'][i]!=0) or (df['TYPE'][i]=='Iris-versicolor' and df['cluster'][i]!=1) or (df['TYPE'][i]=='Iris-virginica' and df['cluster'][i]!=2)):\n",
    "        mismatched.append([i,df['TYPE'][i],df['cluster'][i]])\n",
    "        wrong+=1\n",
    "wrong,mismatched \n",
    " "
   ]
  },
  {
   "cell_type": "code",
   "execution_count": 32,
   "metadata": {},
   "outputs": [
    {
     "data": {
      "image/png": "[encoded data removed]",
      "text/plain": [
       "<Figure size 640x480 with 1 Axes>"
      ]
     },
     "metadata": {},
     "output_type": "display_data"
    },
    {
     "data": {
      "text/plain": [
       "(16,\n",
       " [[77, 'Iris-versicolor', 2],\n",
       "  [101, 'Iris-virginica', 0],\n",
       "  [106, 'Iris-virginica', 0],\n",
       "  [113, 'Iris-virginica', 0],\n",
       "  [114, 'Iris-virginica', 0],\n",
       "  [119, 'Iris-virginica', 0],\n",
       "  [121, 'Iris-virginica', 0],\n",
       "  [123, 'Iris-virginica', 0],\n",
       "  [126, 'Iris-virginica', 0],\n",
       "  [127, 'Iris-virginica', 0],\n",
       "  [133, 'Iris-virginica', 0],\n",
       "  [134, 'Iris-virginica', 0],\n",
       "  [138, 'Iris-virginica', 0],\n",
       "  [142, 'Iris-virginica', 0],\n",
       "  [146, 'Iris-virginica', 0],\n",
       "  [149, 'Iris-virginica', 0]])"
      ]
     },
     "execution_count": 32,
     "metadata": {},
     "output_type": "execute_result"
    }
   ],
   "source": [
    "#AgglomerativeClustering\n",
    "#THIS MODEL DIVIDES THE COLUMN/DATA INTO CLUSTERS\n",
    "\n",
    "import numpy as np\n",
    "import matplotlib.pyplot as plt\n",
    "import pandas as pd\n",
    "import scipy.cluster.hierarchy as sch#FOR DRAWING DENGROGRAM\n",
    "from sklearn.cluster import AgglomerativeClustering\n",
    "\n",
    "df=pd.read_csv('data.txt')\n",
    "x=df.drop('TYPE',axis=1)\n",
    "d=sch.dendrogram(sch.linkage(x,method=\"ward\"))\n",
    "plt.show()\n",
    "\n",
    "model=AgglomerativeClustering(n_clusters=3)\n",
    "model.fit(x)\n",
    "\n",
    "df['cluster']=model.labels_\n",
    "    \n",
    "\n",
    "mismatched=[]\n",
    "wrong=0\n",
    "for i in range(0,len(df['TYPE'])):\n",
    "    if((df['TYPE'][i]=='Iris-setosa' and df['cluster'][i]!=1) or (df['TYPE'][i]=='Iris-versicolor' and df['cluster'][i]!=0) or (df['TYPE'][i]=='Iris-virginica' and df['cluster'][i]!=2)):\n",
    "        mismatched.append([i,df['TYPE'][i],df['cluster'][i]])\n",
    "        wrong+=1\n",
    "wrong,mismatched    \n",
    "\n"
   ]
  },
  {
   "cell_type": "code",
   "execution_count": 15,
   "metadata": {},
   "outputs": [
    {
     "data": {
      "text/plain": [
       "(51,\n",
       " [[98, 'Iris-versicolor', 1],\n",
       "  [100, 'Iris-virginica', 0],\n",
       "  [101, 'Iris-virginica', 0],\n",
       "  [102, 'Iris-virginica', 0],\n",
       "  [103, 'Iris-virginica', 0],\n",
       "  [104, 'Iris-virginica', 0],\n",
       "  [105, 'Iris-virginica', 0],\n",
       "  [106, 'Iris-virginica', 0],\n",
       "  [107, 'Iris-virginica', 0],\n",
       "  [108, 'Iris-virginica', 0],\n",
       "  [109, 'Iris-virginica', 0],\n",
       "  [110, 'Iris-virginica', 0],\n",
       "  [111, 'Iris-virginica', 0],\n",
       "  [112, 'Iris-virginica', 0],\n",
       "  [113, 'Iris-virginica', 0],\n",
       "  [114, 'Iris-virginica', 0],\n",
       "  [115, 'Iris-virginica', 0],\n",
       "  [116, 'Iris-virginica', 0],\n",
       "  [117, 'Iris-virginica', 0],\n",
       "  [118, 'Iris-virginica', 0],\n",
       "  [119, 'Iris-virginica', 0],\n",
       "  [120, 'Iris-virginica', 0],\n",
       "  [121, 'Iris-virginica', 0],\n",
       "  [122, 'Iris-virginica', 0],\n",
       "  [123, 'Iris-virginica', 0],\n",
       "  [124, 'Iris-virginica', 0],\n",
       "  [125, 'Iris-virginica', 0],\n",
       "  [126, 'Iris-virginica', 0],\n",
       "  [127, 'Iris-virginica', 0],\n",
       "  [128, 'Iris-virginica', 0],\n",
       "  [129, 'Iris-virginica', 0],\n",
       "  [130, 'Iris-virginica', 0],\n",
       "  [131, 'Iris-virginica', 0],\n",
       "  [132, 'Iris-virginica', 0],\n",
       "  [133, 'Iris-virginica', 0],\n",
       "  [134, 'Iris-virginica', 0],\n",
       "  [135, 'Iris-virginica', 0],\n",
       "  [136, 'Iris-virginica', 0],\n",
       "  [137, 'Iris-virginica', 0],\n",
       "  [138, 'Iris-virginica', 0],\n",
       "  [139, 'Iris-virginica', 0],\n",
       "  [140, 'Iris-virginica', 0],\n",
       "  [141, 'Iris-virginica', 0],\n",
       "  [142, 'Iris-virginica', 0],\n",
       "  [143, 'Iris-virginica', 0],\n",
       "  [144, 'Iris-virginica', 0],\n",
       "  [145, 'Iris-virginica', 0],\n",
       "  [146, 'Iris-virginica', 0],\n",
       "  [147, 'Iris-virginica', 0],\n",
       "  [148, 'Iris-virginica', 0],\n",
       "  [149, 'Iris-virginica', 0]])"
      ]
     },
     "execution_count": 15,
     "metadata": {},
     "output_type": "execute_result"
    }
   ],
   "source": [
    "#MeanShiftClustering\n",
    "import pandas as pd\n",
    "from sklearn.datasets._samples_generator import make_blobs\n",
    "from sklearn.cluster import MeanShift\n",
    "\n",
    "df=pd.read_csv('data.txt')\n",
    "x=df.drop('TYPE',axis=1)\n",
    "model=MeanShift()\n",
    "model.fit(x)\n",
    "df['cluster']=model.labels_\n",
    "mismatched=[]\n",
    "wrong=0\n",
    "for i in range(0,len(df['TYPE'])):\n",
    "    if((df['TYPE'][i]=='Iris-setosa' and df['cluster'][i]!=1) or (df['TYPE'][i]=='Iris-versicolor' and df['cluster'][i]!=0) or (df['TYPE'][i]=='Iris-virginica' and df['cluster'][i]!=2)):\n",
    "        mismatched.append([i,df['TYPE'][i],df['cluster'][i]])\n",
    "        wrong+=1\n",
    "wrong,mismatched  \n",
    "\n",
    "\n"
   ]
  },
  {
   "cell_type": "code",
   "execution_count": 49,
   "metadata": {},
   "outputs": [
    {
     "data": {
      "text/plain": [
       "Text(0, 0.5, 'Price')"
      ]
     },
     "execution_count": 49,
     "metadata": {},
     "output_type": "execute_result"
    },
    {
     "data": {
      "image/png": "[encoded data removed]",
      "text/plain": [
       "<Figure size 640x480 with 1 Axes>"
      ]
     },
     "metadata": {},
     "output_type": "display_data"
    }
   ],
   "source": [
    "#DBSCAN(DENSITY BASED SPATIAL CLUSTERING OF APPLICATIONS WITH NOISE)\n",
    "#THIS MODEL IS DIVIVDING THE DATA INTO CLUSTERS BASED ON SQ.FT AND PRICE\n",
    "\n",
    "import numpy as np\n",
    "import pandas as pd\n",
    "import matplotlib.pyplot as plt\n",
    "from sklearn.cluster import DBSCAN\n",
    "\n",
    "path=r\"https://drive.google.com/uc?export=download&id=1xxDtrZKfuWQfl-6KA9XEd_eatitNPnkB\"\n",
    "df=pd.read_csv(path)\n",
    "x=df.iloc[:,[3,2]].values\n",
    "# plt.scatter(x[:,0],x[:,1],s=1)\n",
    "# plt.xlabel('SQ.FT')\n",
    "# plt.ylabel('PRICE')\n",
    "\n",
    "model=DBSCAN(eps=5)\n",
    "labels=model.fit_predict(x)\n",
    "np.unique(labels)#THIS GIVES NUMBER OF CLUSTER FORMED BY DBSCAN\n",
    "\n",
    "for i in range(-1,116):\n",
    "    plt.scatter(x[labels==i,0],x[labels==i,1],s=5)\n",
    "plt.xlabel('Sq.ft')\n",
    "plt.ylabel('Price')\n"
   ]
  },
  {
   "cell_type": "code",
   "execution_count": null,
   "metadata": {},
   "outputs": [],
   "source": []
  }
 ],
 "metadata": {
  "kernelspec": {
   "display_name": "Python 3",
   "language": "python",
   "name": "python3"
  },
  "language_info": {
   "codemirror_mode": {
    "name": "ipython",
    "version": 3
   },
   "file_extension": ".py",
   "mimetype": "text/x-python",
   "name": "python",
   "nbconvert_exporter": "python",
   "pygments_lexer": "ipython3",
   "version": "3.10.1"
  },
  "orig_nbformat": 4,
  "vscode": {
   "interpreter": {
    "hash": "3075602fe07dfbfad68e36544cfcd65990cacb611b1ced0126e3839888a1e43b"
   }
  }
 },
 "nbformat": 4,
 "nbformat_minor": 2
}
